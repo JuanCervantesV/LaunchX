{
 "cells": [
  {
   "cell_type": "markdown",
   "metadata": {},
   "source": [
    "## Bucle While y Ciclo For"
   ]
  },
  {
   "cell_type": "code",
   "execution_count": 12,
   "metadata": {},
   "outputs": [
    {
     "name": "stdout",
     "output_type": "stream",
     "text": [
      "The new planets list is: \n",
      "asdfasdf\n",
      "asdfasdfasfdasdfas\n"
     ]
    }
   ],
   "source": [
    "new_planet = input(\"Write a planet Name\")\n",
    "planets = []\n",
    "\n",
    "while new_planet !=  'done':\n",
    "    if new_planet not in planets:\n",
    "        planets.append(str(new_planet))\n",
    "    new_planet = input(\"\"\"Add a new planet name or write \"done\" to end\"\"\")    \n",
    "print(\"The new planets list is: \")\n",
    "for opt in planets:\n",
    "    print(opt)\n"
   ]
  }
 ],
 "metadata": {
  "interpreter": {
   "hash": "9635af022b927ca639f2bbe9cd24d9d9d60a1b990e533d8d5dc49b84ddbdd363"
  },
  "kernelspec": {
   "display_name": "Python 3.10.2 64-bit (windows store)",
   "language": "python",
   "name": "python3"
  },
  "language_info": {
   "codemirror_mode": {
    "name": "ipython",
    "version": 3
   },
   "file_extension": ".py",
   "mimetype": "text/x-python",
   "name": "python",
   "nbconvert_exporter": "python",
   "pygments_lexer": "ipython3",
   "version": "3.10.2"
  },
  "orig_nbformat": 4
 },
 "nbformat": 4,
 "nbformat_minor": 2
}
