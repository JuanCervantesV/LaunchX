{
 "cells": [
  {
   "cell_type": "markdown",
   "metadata": {},
   "source": [
    "## Diccionario Python"
   ]
  },
  {
   "cell_type": "code",
   "execution_count": 8,
   "metadata": {},
   "outputs": [
    {
     "name": "stdout",
     "output_type": "stream",
     "text": [
      "The planet Mars has 2 Moons\n",
      "The planet Mars has 6752 Km Polar circunference\n"
     ]
    }
   ],
   "source": [
    "planet = {\n",
    "    'name' : 'Mars',\n",
    "    'moons' : '2'\n",
    "}\n",
    "\n",
    "print(\"The planet \" + planet.get('name') + \" has \" + planet.get('moons') + \" Moons\")\n",
    "planet['polar'] = '6752'\n",
    "planet['equatorial'] = '6792'\n",
    "print(\"The planet \" + planet.get('name') + \" has \" + planet.get('polar') + \" Km Polar circunference\")\n"
   ]
  },
  {
   "cell_type": "markdown",
   "metadata": {},
   "source": [
    "## Calculo de Valores"
   ]
  },
  {
   "cell_type": "code",
   "execution_count": 20,
   "metadata": {},
   "outputs": [
    {
     "name": "stdout",
     "output_type": "stream",
     "text": [
      "There are 17.83 average within the Solar system\n"
     ]
    }
   ],
   "source": [
    "planet_moons = {\n",
    "    'mercury' : 0,\n",
    "    'venus' : 0,\n",
    "    'earth' : 1,\n",
    "    'mars' : 2,\n",
    "    'jupyter' : 79,\n",
    "    'saturn' : 82,\n",
    "    'uranus' : 27,\n",
    "    'neptune' : 14,\n",
    "    'pluto' : 5,\n",
    "    'haumea' : 2,\n",
    "    'makemake' : 1,\n",
    "    'eris' : 1\n",
    "}\n",
    "moons = 0\n",
    "planets = len(planet_moons.keys())\n",
    "\n",
    "for value in planet_moons.values():\n",
    "    moons = moons + value\n",
    "\n",
    "total_moons = f'There are {round(moons/planets,2)} average within the Solar system'\n",
    "\n",
    "print(total_moons)\n",
    "\n"
   ]
  }
 ],
 "metadata": {
  "interpreter": {
   "hash": "9635af022b927ca639f2bbe9cd24d9d9d60a1b990e533d8d5dc49b84ddbdd363"
  },
  "kernelspec": {
   "display_name": "Python 3.10.2 64-bit (windows store)",
   "language": "python",
   "name": "python3"
  },
  "language_info": {
   "codemirror_mode": {
    "name": "ipython",
    "version": 3
   },
   "file_extension": ".py",
   "mimetype": "text/x-python",
   "name": "python",
   "nbconvert_exporter": "python",
   "pygments_lexer": "ipython3",
   "version": "3.10.2"
  },
  "orig_nbformat": 4
 },
 "nbformat": 4,
 "nbformat_minor": 2
}
