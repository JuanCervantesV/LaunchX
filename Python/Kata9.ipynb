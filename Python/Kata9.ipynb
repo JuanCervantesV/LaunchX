{
 "cells": [
  {
   "cell_type": "markdown",
   "metadata": {},
   "source": [
    "## Funciones en Python\n"
   ]
  },
  {
   "cell_type": "code",
   "execution_count": 17,
   "metadata": {},
   "outputs": [
    {
     "name": "stdout",
     "output_type": "stream",
     "text": [
      "Fuel Levels Report:\n",
      "---------------------\n",
      "Fuel in tank 1: 56\n",
      "Fuel in tank 2: 89\n",
      "Fuel in tank 3: 10\n",
      "---------------------\n",
      "Average Fuel level: 51.67\n"
     ]
    }
   ],
   "source": [
    "def fuel_report(tank1, tank2, tank3):\n",
    "    total_fuel = int(tank1) + int(tank2) + int(tank3)\n",
    "\n",
    "    fuel_levels = f\"\"\"Fuel Levels Report:\n",
    "---------------------\n",
    "Fuel in tank 1: {tank1}\n",
    "Fuel in tank 2: {tank2}\n",
    "Fuel in tank 3: {tank3}\n",
    "---------------------\n",
    "Average Fuel level: {average_fuel(total_fuel)}\"\"\"\n",
    "\n",
    "    return fuel_levels\n",
    "\n",
    "def average_fuel(total_fuel):\n",
    "        return round(total_fuel/3,2)\n",
    "\n",
    "print(fuel_report(56,89,10))    "
   ]
  },
  {
   "cell_type": "markdown",
   "metadata": {},
   "source": [
    "## Argumentos de palabra clave"
   ]
  },
  {
   "cell_type": "code",
   "execution_count": 43,
   "metadata": {},
   "outputs": [
    {
     "name": "stdout",
     "output_type": "stream",
     "text": [
      "           *+*+*+*+*+*+*+*+*+*+*+*Mission Report*+*+*+*+*+*+*+*+*+*+*+*+*+*\n",
      "    ------------------------------------------------------------------------------\n",
      "    -Pre-Launch Time: 18 Hours \n",
      "    -Travel Time:     16125  minutes  \n",
      "    -Destination:     Mars    \n",
      "    -Fuel Levels:     \n",
      "    ****externalTank Level: 5000 gallons\n",
      "    ****internalTank Level: 90000 gallons\n",
      "    ****centralTank Level: 58887 gallons\n",
      "    ****mainTank Level: 9888878 gallons\n",
      "    ******Total Fuel Levels: 10042765 gallons\n",
      "    ------------------------------------------------------------------------------\n"
     ]
    }
   ],
   "source": [
    "def mission_report(prelaunch, destiny, *flyTime, **fuel_reservoirs):\n",
    "    report_template = f\"\"\"           *+*+*+*+*+*+*+*+*+*+*+*Mission Report*+*+*+*+*+*+*+*+*+*+*+*+*+*\n",
    "    ------------------------------------------------------------------------------\n",
    "    -Pre-Launch Time: {prelaunch} Hours \n",
    "    -Travel Time:     {sum(flyTime)}  minutes  \n",
    "    -Destination:     {destiny}    \n",
    "    -Fuel Levels:     \n",
    "    \"\"\" + fuel_report(fuel_reservoirs.items())+    f\"\"\"******Total Fuel Levels: {sum(fuel_reservoirs.values())} gallons\n",
    "    ------------------------------------------------------------------------------\"\"\"\n",
    "    return report_template\n",
    "\n",
    "def fuel_report(fuel_reservoirs):\n",
    "    detailed_report =''\n",
    "    for tank, level in fuel_reservoirs:\n",
    "        detailed_report += f\"\"\"****{tank} Level: {level} gallons\n",
    "    \"\"\"\n",
    "    return detailed_report    \n",
    "\n",
    "print(mission_report(18,\"Mars\",7000,50,90,88,999,7852,46,externalTank = 5000, internalTank=90000, centralTank = 58887, mainTank = 9888878))\n",
    "\n"
   ]
  }
 ],
 "metadata": {
  "interpreter": {
   "hash": "9635af022b927ca639f2bbe9cd24d9d9d60a1b990e533d8d5dc49b84ddbdd363"
  },
  "kernelspec": {
   "display_name": "Python 3.10.2 64-bit (windows store)",
   "language": "python",
   "name": "python3"
  },
  "language_info": {
   "codemirror_mode": {
    "name": "ipython",
    "version": 3
   },
   "file_extension": ".py",
   "mimetype": "text/x-python",
   "name": "python",
   "nbconvert_exporter": "python",
   "pygments_lexer": "ipython3",
   "version": "3.10.2"
  },
  "orig_nbformat": 4
 },
 "nbformat": 4,
 "nbformat_minor": 2
}
