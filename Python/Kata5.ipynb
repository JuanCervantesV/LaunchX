{
 "cells": [
  {
   "cell_type": "markdown",
   "metadata": {},
   "source": [
    "## Distancia entre Planetas"
   ]
  },
  {
   "cell_type": "code",
   "execution_count": 2,
   "metadata": {},
   "outputs": [
    {
     "name": "stdout",
     "output_type": "stream",
     "text": [
      "628949330\n",
      "390577533.93\n"
     ]
    }
   ],
   "source": [
    "earth = 149597870\n",
    "jupyter = 778547200\n",
    "\n",
    "dist = earth - jupyter\n",
    "print(abs(dist))\n",
    "print(abs(dist*0.621))"
   ]
  },
  {
   "cell_type": "code",
   "execution_count": 8,
   "metadata": {},
   "outputs": [
    {
     "name": "stdout",
     "output_type": "stream",
     "text": [
      "La distancia entre los planetas es: 162260000.0 KM\n",
      "La distancia entre los planetas es: 100763460.0 Millas\n"
     ]
    }
   ],
   "source": [
    "val1 = input(\"Proporciona la distancia del primer planeta en kilómetros\")\n",
    "val2 = input(\"Proporciona la distancia del segundo planeta en kilómetros\")\n",
    "value1=float(val1)\n",
    "value2=float(val2)\n",
    "valTot=abs(value1-value2)\n",
    "\n",
    "print(\"La distancia entre los planetas es: \" + str(valTot) + \" KM\")\n",
    "print(\"La distancia entre los planetas es: \" + str(valTot*0.621) + \" Millas\")\n"
   ]
  }
 ],
 "metadata": {
  "interpreter": {
   "hash": "9635af022b927ca639f2bbe9cd24d9d9d60a1b990e533d8d5dc49b84ddbdd363"
  },
  "kernelspec": {
   "display_name": "Python 3.10.2 64-bit (windows store)",
   "language": "python",
   "name": "python3"
  },
  "language_info": {
   "codemirror_mode": {
    "name": "ipython",
    "version": 3
   },
   "file_extension": ".py",
   "mimetype": "text/x-python",
   "name": "python",
   "nbconvert_exporter": "python",
   "pygments_lexer": "ipython3",
   "version": "3.10.2"
  },
  "orig_nbformat": 4
 },
 "nbformat": 4,
 "nbformat_minor": 2
}
