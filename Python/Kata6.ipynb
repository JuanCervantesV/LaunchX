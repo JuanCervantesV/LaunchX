{
 "cells": [
  {
   "cell_type": "markdown",
   "metadata": {},
   "source": [
    "## Lista de Planetas"
   ]
  },
  {
   "cell_type": "code",
   "execution_count": 15,
   "metadata": {},
   "outputs": [
    {
     "name": "stdout",
     "output_type": "stream",
     "text": [
      "There are 7 planets in the solar system\n",
      "The last planet in the solar system is neptune\n"
     ]
    }
   ],
   "source": [
    "planets=['mercury','venus','earth','mars','jupyter','saturn','uranus','neptune']\n",
    "totalPlanets = len(planets)\n",
    "totalPlanetsString = \"\"\"There are {totalPlanets} planets in the solar system\"\"\"\n",
    "lastPlanetSolar = \"\"\"The last planet in the solar system is {lastPlanet}\"\"\"\n",
    "print(totalPlanetsString.format(totalPlanets=totalPlanets))\n",
    "print(lastPlanetSolar.format(lastPlanet=planets[-1]))\n",
    "\n",
    "\n"
   ]
  },
  {
   "cell_type": "code",
   "execution_count": 39,
   "metadata": {},
   "outputs": [
    {
     "name": "stdout",
     "output_type": "stream",
     "text": [
      "The planet adfasdfas does not exist\n",
      "The planets closer to the Sun are: Mercury, Venus, Earth\n",
      "The planets farther from the Sun are: Neptune, Uranus, Saturn\n"
     ]
    }
   ],
   "source": [
    "planets=['Mercury','Venus','Earth','Mars','Jupyter','Saturn','Uranus','Neptune']\n",
    "newPlanet = input(\"Write the planet's name (use Capital letter) your are looking for\")\n",
    "\n",
    "\n",
    "if newPlanet in planets:\n",
    " print(planets.index(newPlanet)+1)\n",
    " print(\"The planets that are closer than \" + newPlanet + \" to the Sun are: \")\n",
    " print(planets[0:planets.index(newPlanet)])\n",
    " print(\"The planets that are farther than \" + newPlanet + \" from the Sun are: \")\n",
    " print(planets[planets.index(newPlanet)+1:])\n",
    "else : \n",
    " print(\"The planet \" + newPlanet + \" does not exist\")\n",
    "\n",
    "closePlanet = \"The planets closer to the Sun are: {plan1}, {plan2}, {plan3}\"\n",
    "farPlanet = \"The planets farther from the Sun are: {plan1}, {plan2}, {plan3}\"\n",
    "print(closePlanet.format(plan1=planets[0],plan2=planets[1], plan3=planets[2]))\n",
    "print(farPlanet.format(plan1=planets[-1],plan2=planets[-2], plan3=planets[-3])) \n",
    "\n",
    "\n",
    "\n",
    "\n",
    "\n",
    "\n",
    "\n",
    "\n"
   ]
  }
 ],
 "metadata": {
  "interpreter": {
   "hash": "9635af022b927ca639f2bbe9cd24d9d9d60a1b990e533d8d5dc49b84ddbdd363"
  },
  "kernelspec": {
   "display_name": "Python 3.10.2 64-bit (windows store)",
   "language": "python",
   "name": "python3"
  },
  "language_info": {
   "codemirror_mode": {
    "name": "ipython",
    "version": 3
   },
   "file_extension": ".py",
   "mimetype": "text/x-python",
   "name": "python",
   "nbconvert_exporter": "python",
   "pygments_lexer": "ipython3",
   "version": "3.10.2"
  },
  "orig_nbformat": 4
 },
 "nbformat": 4,
 "nbformat_minor": 2
}
