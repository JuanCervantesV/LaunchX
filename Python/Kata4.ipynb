{
 "cells": [
  {
   "cell_type": "markdown",
   "metadata": {},
   "source": [
    "## Cadena de Texto"
   ]
  },
  {
   "cell_type": "code",
   "execution_count": 26,
   "metadata": {},
   "outputs": [
    {
     "name": "stdout",
     "output_type": "stream",
     "text": [
      " This yearly drift is not significant enough to cause immediate effects on Earth\n",
      " \n",
      "On average, the Moon moves 4cm away from the Earth every year\n",
      " The highest daylight temperature of the Moon is 127 C\n",
      " There are several interesting facts about the Moon and how it affects life here on Earth\n",
      " The Moon is Earth's only satellite\n",
      " The highest daylight temperature of the Moon is 127 Celsius\n"
     ]
    }
   ],
   "source": [
    "text = \"\"\"Interesting facts about the Moon. The Moon is Earth's only satellite. There are several interesting facts about the Moon and how it affects life here on Earth. \n",
    "On average, the Moon moves 4cm away from the Earth every year. This yearly drift is not significant enough to cause immediate effects on Earth. The highest daylight temperature of the Moon is 127 C.\"\"\"\n",
    "\n",
    "text.split('.')\n",
    "#text1 = text.split('.')[0]\n",
    "#text2 = text.split('.')[1]\n",
    "#text3 = text.split('.')[2]\n",
    "#text4 = text.split('.')[3]\n",
    "#text5 = text.split('.')[4]\n",
    "#text6 = text.split('.')[5]\n",
    "#print(text1 + text2 + text3 + text4 + text5 + text6)\n",
    "\n",
    "keyWords = {'only','several','average','significant', 'temperature'}\n",
    "\n",
    "#print('only' in text2)\n",
    "#print('several' in text3)\n",
    "#print('average' in text4)\n",
    "#print('significant' in text5)\n",
    "#print('highest' in text6)\n",
    "\n",
    "for word in keyWords:\n",
    "    for num in {0,1,2,3,4,5}: \n",
    "        if word in text.split('.')[num]:\n",
    "            print(text.split('.')[num])\n",
    "            if word == 'temperature':\n",
    "                textTemperature = text.split('.')[num]\n",
    "\n",
    "for item in textTemperature.split():\n",
    "    if item.isnumeric() and textTemperature.find(str(item)+\" C\")>-1:\n",
    "        textTemperature = textTemperature.replace(str(item) + \" C\",str(item) + \" Celsius\")\n",
    "        print(textTemperature)"
   ]
  },
  {
   "cell_type": "markdown",
   "metadata": {},
   "source": [
    "## Ejercicio 2"
   ]
  },
  {
   "cell_type": "code",
   "execution_count": 48,
   "metadata": {},
   "outputs": [
    {
     "name": "stdout",
     "output_type": "stream",
     "text": [
      "Gravity Facts Between Earth And Moon\n",
      "---------------------------------------------------------\n",
      "Planet Name: Earth \n",
      "Gravity on Moon: 1.6199999999999999 m/s2\n",
      "\n",
      "Gravity Facts Between Mars and Ganymede\n",
      "---------------------------------------------------------\n",
      "Planet Name: Mars  \n",
      "Gravity on Ganymede: 1.4300000000000002 m/s2\n",
      "\n"
     ]
    }
   ],
   "source": [
    "name = \"Moon\"\n",
    "gravity = 0.00162\n",
    "planet = \"Earth\"\n",
    "\n",
    "textTitle = \"Gravity Facts Between \" + planet + \" and \" +name\n",
    "textBody = \"\"\"\n",
    "---------------------------------------------------------\n",
    "Planet Name: \"\"\" + planet +\"\"\" \n",
    "Gravity on \"\"\" + name + \"\"\": \"\"\"+ str(gravity*1000) + \"\"\" m/s2\n",
    "\"\"\"\n",
    "textFull = f\"\"\"{textTitle.title()}{textBody}\"\"\"\n",
    "print(textFull)\n",
    "\n",
    "name=\"Ganymede\"\n",
    "gravity = 0.00143\n",
    "planet = \"Mars\"\n",
    "textBody\n",
    "grav = gravity*1000\n",
    "\n",
    "textBody2 = \"\"\"Gravity Facts Between {planeta} and {nombre}\n",
    "---------------------------------------------------------\n",
    "Planet Name: {planeta}  \n",
    "Gravity on {nombre}: {gravedad} m/s2\n",
    "\"\"\"\n",
    "print(textBody2.format(planeta = planet, nombre = name, gravedad = grav))\n",
    "\n",
    "\n",
    "\n"
   ]
  }
 ],
 "metadata": {
  "interpreter": {
   "hash": "9635af022b927ca639f2bbe9cd24d9d9d60a1b990e533d8d5dc49b84ddbdd363"
  },
  "kernelspec": {
   "display_name": "Python 3.10.2 64-bit (windows store)",
   "language": "python",
   "name": "python3"
  },
  "language_info": {
   "codemirror_mode": {
    "name": "ipython",
    "version": 3
   },
   "file_extension": ".py",
   "mimetype": "text/x-python",
   "name": "python",
   "nbconvert_exporter": "python",
   "pygments_lexer": "ipython3",
   "version": "3.10.2"
  },
  "orig_nbformat": 4
 },
 "nbformat": 4,
 "nbformat_minor": 2
}
