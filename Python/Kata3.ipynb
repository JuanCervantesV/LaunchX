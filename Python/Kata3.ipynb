{
 "cells": [
  {
   "cell_type": "markdown",
   "metadata": {},
   "source": [
    "## Alerta de Asteroide\n"
   ]
  },
  {
   "cell_type": "code",
   "execution_count": 2,
   "metadata": {},
   "outputs": [
    {
     "name": "stdout",
     "output_type": "stream",
     "text": [
      "Alerta se acerca un asteroide muy rapido 49km/s\n"
     ]
    }
   ],
   "source": [
    "astSpeed = 49\n",
    "speedWarn = 25\n",
    "\n",
    "if astSpeed > speedWarn:\n",
    "    print(\"Alerta se acerca un asteroide muy rapido \" + str(astSpeed) +\"km/s\")\n",
    "else :\n",
    "    print(\"Todo esta correcto, sin peligro\")\n"
   ]
  },
  {
   "cell_type": "code",
   "execution_count": 4,
   "metadata": {},
   "outputs": [
    {
     "name": "stdout",
     "output_type": "stream",
     "text": [
      "Todo está bien!\n"
     ]
    }
   ],
   "source": [
    "astSpeed = 19\n",
    "astLight = 20\n",
    "\n",
    "if astSpeed > astLight :\n",
    "   print(\"Alerta, todos busquen un asteroide en el cielo!\")\n",
    "elif astSpeed == astLight:\n",
    "    print(\"Alerta, todos busquen un asteroide en el cielo!\")\n",
    "else :\n",
    "    print(\"Todo está bien!\")\n",
    "\n",
    "\n",
    "\n"
   ]
  },
  {
   "cell_type": "code",
   "execution_count": 14,
   "metadata": {},
   "outputs": [
    {
     "name": "stdout",
     "output_type": "stream",
     "text": [
      "Se acerca un asteroide pero no hay peligro\n"
     ]
    }
   ],
   "source": [
    "astSpeed = 25\n",
    "astSize = 26\n",
    "if astSize < 25 or astSize == 25:\n",
    "    print(\"No hay problema, sin riesgos\")\n",
    "elif astSize <1000:\n",
    "    if astSpeed >25:\n",
    "        print(\"Alerta todos búsquen un rayo de luz en el cielo, se acerca un asteroide peligrosamente\")\n",
    "    else :\n",
    "        print(\"Se acerca un asteroide pero no hay peligro\")\n"
   ]
  }
 ],
 "metadata": {
  "interpreter": {
   "hash": "e169ad40770e86d323f27602b60f109faebb35f88195c1071fa0ebaae7845c75"
  },
  "kernelspec": {
   "display_name": "Python 3.9.5 64-bit",
   "language": "python",
   "name": "python3"
  },
  "language_info": {
   "codemirror_mode": {
    "name": "ipython",
    "version": 3
   },
   "file_extension": ".py",
   "mimetype": "text/x-python",
   "name": "python",
   "nbconvert_exporter": "python",
   "pygments_lexer": "ipython3",
   "version": "3.9.5"
  },
  "orig_nbformat": 4
 },
 "nbformat": 4,
 "nbformat_minor": 2
}
